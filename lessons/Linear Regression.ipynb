{
 "metadata": {
  "name": ""
 },
 "nbformat": 3,
 "nbformat_minor": 0,
 "worksheets": [
  {
   "cells": [
    {
     "cell_type": "code",
     "collapsed": false,
     "input": [
      "import pandas as pd\n",
      "import numpy as np\n",
      "from matplotlib import pyplot as plt\n",
      "from sklearn.linear_model import LinearRegression\n",
      "from sklearn.feature_selection import f_regression\n",
      "from sklearn.metrics import mean_squared_error, mean_absolute_error"
     ],
     "language": "python",
     "metadata": {},
     "outputs": [],
     "prompt_number": 2
    },
    {
     "cell_type": "code",
     "collapsed": false,
     "input": [
      "def ols_regression(x_input, y_response):\n",
      "    intercept_matrix = np.ones(len(x_input))\n",
      "    x_var = np.array([intercept_matrix,x_input]).T\n",
      "    x_inv = x_var.T\n",
      "    a = np.linalg.inv(x_inv.dot(x_var))\n",
      "    b = x_inv.dot(y_response)\n",
      "    return a.dot(b)\n",
      "\n",
      "Xvar = np.array([3.385, 0.48, 1.35, 465, 36.33])\n",
      "yvar = np.array([44.5, 15.5, 8.1, 423, 119.5])\n",
      "y_intercept, coefficient = ols_regression(Xvar, yvar)\n",
      "print y_intercept, coefficient"
     ],
     "language": "python",
     "metadata": {},
     "outputs": [
      {
       "output_type": "stream",
       "stream": "stdout",
       "text": [
        "37.2008960793 0.838218755695\n"
       ]
      }
     ],
     "prompt_number": 3
    },
    {
     "cell_type": "code",
     "collapsed": false,
     "input": [
      "def ols_predict(x_input, y_intercept, coefficients):\n",
      "    \"\"\"solution for predicting new data.\n",
      "    x_input: an input narray (X)\n",
      "    y_intercept: a float\n",
      "    coefficients: matrix of coefficients\n",
      "    X and y must have equal lengths, but x can be multiple dimensions\n",
      "    should return back a 1d array of 1 intercept + all coefficients\n",
      "    \"\"\"\n",
      "    return y_intercept + coefficients.dot(x_input)\n",
      "\n",
      "ols_predict(Xvar, y_intercept, np.array(coefficient))"
     ],
     "language": "python",
     "metadata": {},
     "outputs": [
      {
       "metadata": {},
       "output_type": "pyout",
       "prompt_number": 11,
       "text": [
        "array([  40.03826657,   37.60324108,   38.3324914 ,  426.97261748,\n",
        "         67.65338347])"
       ]
      }
     ],
     "prompt_number": 11
    },
    {
     "cell_type": "code",
     "collapsed": false,
     "input": [
      "%pylab inline\n",
      "\n",
      "url = 'https://gist.githubusercontent.com/podopie/5ea0c35ecc556d6cbae3/raw/c56f694bf4e7bbeeec92e24d33a8f49f7da37be8/mammals.csv'\n",
      "animals = pd.read_csv(url)\n",
      "print animals.describe()\n",
      "\n",
      "fig = plt.figure()\n",
      "fig.set_figwidth(20.0)\n",
      "ax1 = fig.add_subplot(1,3,1) # one row, three columns, first plot\n",
      "ax1.hist(animals['body'])\n",
      "\n",
      "ax2 = fig.add_subplot(1,3,2)\n",
      "ax2.hist(animals['brain'])\n",
      "\n",
      "ax3 = fig.add_subplot(1,3,3)\n",
      "ax3.scatter(animals['body'], animals['brain'])\n",
      "print fig"
     ],
     "language": "python",
     "metadata": {},
     "outputs": [
      {
       "output_type": "stream",
       "stream": "stdout",
       "text": [
        "Populating the interactive namespace from numpy and matplotlib\n",
        "              body        brain\n",
        "count    62.000000    62.000000\n",
        "mean    198.789984   283.134194\n",
        "std     899.158011   930.278942\n",
        "min       0.005000     0.140000\n",
        "25%       0.600000     4.250000\n",
        "50%       3.342500    17.250000\n",
        "75%      48.202500   166.000000\n",
        "max    6654.000000  5712.000000\n",
        "\n",
        "[8 rows x 2 columns]"
       ]
      },
      {
       "output_type": "stream",
       "stream": "stdout",
       "text": [
        "\n",
        "Figure(1600x320)"
       ]
      },
      {
       "output_type": "stream",
       "stream": "stdout",
       "text": [
        "\n"
       ]
      },
      {
       "metadata": {},
       "output_type": "display_data",
       "png": "[encoded data removed]",
       "text": [
        "<matplotlib.figure.Figure at 0x16af3be0>"
       ]
      }
     ],
     "prompt_number": 12
    },
    {
     "cell_type": "code",
     "collapsed": false,
     "input": [
      "fig = plt.figure()\n",
      "fig.set_figwidth(20.0)\n",
      "ax1 = fig.add_subplot(1,3,1) # one row, two columns, first plot\n",
      "ax1.hist(np.log(animals['body']))\n",
      "\n",
      "ax2 = fig.add_subplot(1,3,2) # one row, two columns, second plot\n",
      "ax2.hist(np.log(animals['brain']))\n",
      "\n",
      "ax3 = fig.add_subplot(1,3,3)\n",
      "ax3.scatter(np.log(animals['body']), np.log(animals['brain']))\n",
      "\n",
      "print fig"
     ],
     "language": "python",
     "metadata": {},
     "outputs": [
      {
       "output_type": "stream",
       "stream": "stdout",
       "text": [
        "Figure(1600x320)\n"
       ]
      },
      {
       "metadata": {},
       "output_type": "display_data",
       "png": "[encoded data removed]",
       "text": [
        "<matplotlib.figure.Figure at 0x1767ac18>"
       ]
      }
     ],
     "prompt_number": 14
    },
    {
     "cell_type": "code",
     "collapsed": false,
     "input": [
      "linear_fit = LinearRegression()\n",
      "log_fit = LinearRegression()\n",
      "\n",
      "linear_fit.fit(animals[['body']].values, animals['brain'].values)\n",
      "log_fit.fit(np.log(animals[['body']]), np.log(animals['brain'].values))\n",
      "\n",
      "print \"My intercept and coefficient:\", ols_regression(animals['body'], animals['brain'])\n",
      "print \"sklearn intercept and coef (linear):\", linear_fit.intercept_, linear_fit.coef_\n",
      "print \"sklearn intercept and coef (log):\", log_fit.intercept_, log_fit.coef_"
     ],
     "language": "python",
     "metadata": {},
     "outputs": [
      {
       "output_type": "stream",
       "stream": "stdout",
       "text": [
        "My intercept and coefficient: [ 91.00439621   0.96649637]\n",
        "sklearn intercept and coef (linear): 91.0043962074 [ 0.96649637]\n",
        "sklearn intercept and coef (log): 2.13478867676 [ 0.75168594]\n"
       ]
      }
     ],
     "prompt_number": 17
    },
    {
     "cell_type": "code",
     "collapsed": false,
     "input": [
      "#print ols_predict(animals['body'].values, 91.004, 0.966)\n",
      "print linear_fit.predict(animals[['body']].values)\n",
      "print log_fit.predict(np.log(animals[['body']].values)) ## remember this is in the log-log dimensional space!"
     ],
     "language": "python",
     "metadata": {},
     "outputs": [
      {
       "output_type": "stream",
       "stream": "stdout",
       "text": [
        "[   94.27598641    91.46831446    92.3091663    540.42520718   126.11720924\n",
        "   117.73768574   105.33753734    92.00955243    95.05401599    91.41515716\n",
        "    91.10201234    91.89357287    91.97089258    91.00922869    91.06238599\n",
        "    94.38713349    92.93738894    92.64744003  2552.67064467    91.02662562\n",
        "   271.8358666    594.54900376    91.76309586   100.66935988    94.19383422\n",
        "    91.19769548    92.36715609   602.28097471   291.06914432   173.15658746\n",
        "    91.72926848   150.927171    6522.0712267     94.38713349    97.57657151\n",
        "   124.83176908    94.9187065     91.12037577    91.02662562    91.01406117\n",
        "    92.35749112   332.62848813    93.42063713   144.64494461   187.65403297\n",
        "   141.41684675   101.20093289    91.53596921   148.99417827    94.48378313\n",
        "    95.14873263    91.27501519    91.07688343    91.12230876    91.05078803\n",
        "   276.5716988     93.90388531   245.64381504    91.87424294    92.57012032\n",
        "    91.10491183    95.09750832]\n",
        "[ 3.05135986  1.58307437  2.36037308  6.75167181  4.83532853  4.63037646\n",
        "  4.16182418  2.16427034  3.21172967  1.4915965   0.41144737  2.07211189\n",
        "  2.13478868 -1.84788197  0.01998741  3.07647298  2.65581766  2.53365447\n",
        "  8.03001453 -0.70076691  6.06734132  6.837148    1.95282689  3.86560951\n",
        "  3.03224341  0.92499683  2.39306023  6.84860249  6.1433184   5.47426715\n",
        "  1.91854211  5.23709755  8.75186002  3.07647298  3.57571245  4.80729381\n",
        "  3.18618449  0.5410164  -0.70076691 -1.32685299  2.38771012  6.2851932\n",
        "  2.82355153  5.15384731  5.59643034  5.10719234  3.90585535  1.68540301\n",
        "  5.2124499   3.09764863  3.22910842  1.17791828  0.18772128  0.55344124\n",
        " -0.14774646  6.08677401  2.96060008  5.94972546  2.05559066  2.49742163\n",
        "  0.4334495   3.21975963]\n"
       ]
      }
     ],
     "prompt_number": 20
    },
    {
     "cell_type": "code",
     "collapsed": false,
     "input": [
      "print \"Linear R-squared\", round(linear_fit.score(animals[['body']].values, animals['brain'].values), 4)\n",
      "print \"Log R-squared\", round(log_fit.score(np.log(animals[['body']].values), np.log(animals['brain'].values)), 4)"
     ],
     "language": "python",
     "metadata": {},
     "outputs": [
      {
       "output_type": "stream",
       "stream": "stdout",
       "text": [
        "Linear R-squared 0.8727\n",
        "Log R-squared 0.9208\n"
       ]
      }
     ],
     "prompt_number": 21
    },
    {
     "cell_type": "code",
     "collapsed": false,
     "input": [
      "lin_f, lin_p = f_regression(animals[['body']].values, animals['brain'].values)\n",
      "log_f, log_p = f_regression(np.log(animals[['body']]), np.log(animals['brain'].values))\n",
      "print 'LINEAR F-Test Values:', lin_f[0]\n",
      "print 'LINEAR p-values:     ', lin_p[0]\n",
      "print 'LOG    F-Test Values:', log_f[0]\n",
      "print 'LOG    p-values:     ', log_p[0]"
     ],
     "language": "python",
     "metadata": {},
     "outputs": [
      {
       "output_type": "stream",
       "stream": "stdout",
       "text": [
        "LINEAR F-Test Values: 411.187231801\n",
        "LINEAR p-values:      1.54293494467e-28\n",
        "LOG    F-Test Values: 697.420036059\n",
        "LOG    p-values:      9.83579224283e-35\n"
       ]
      }
     ],
     "prompt_number": 22
    },
    {
     "cell_type": "code",
     "collapsed": false,
     "input": [
      "linear_prediction = linear_fit.predict(animals[['body']].values)\n",
      "log_prediction = log_fit.predict(np.log(animals[['body']].values))\n",
      "                                 \n",
      "print 'LINEAR  MSE:', mean_squared_error(linear_prediction, animals[['body']].values)\n",
      "print 'LINEAR RMSE:', np.sqrt(mean_squared_error(linear_prediction, animals[['body']].values))\n",
      "print 'LINEAR  MAE:', mean_absolute_error(linear_fit.predict(animals[['body']].values), animals[['body']].values)\n",
      "print\n",
      "print 'LOG     MSE:', mean_squared_error(log_prediction, np.log(animals[['body']].values))\n",
      "print 'LOG    RMSE:', np.sqrt(mean_squared_error(log_prediction, np.log(animals[['body']].values)))\n",
      "print 'LOG     MAE:', mean_absolute_error(log_fit.predict(np.log(animals[['body']].values)), np.log(animals[['body']].values))"
     ],
     "language": "python",
     "metadata": {},
     "outputs": [
      {
       "output_type": "stream",
       "stream": "stdout",
       "text": [
        "LINEAR  MSE: 8006.82750277\n",
        "LINEAR RMSE: 89.480877861\n",
        "LINEAR  MAE: 88.599976558\n",
        "\n",
        "LOG     MSE: 3.84130470976\n",
        "LOG    RMSE: 1.95992466941\n",
        "LOG     MAE: 1.80430775985\n"
       ]
      }
     ],
     "prompt_number": 23
    },
    {
     "cell_type": "code",
     "collapsed": false,
     "input": [
      "import statsmodels.formula.api as sm\n",
      "fit1 = sm.ols(formula='brain ~ body', data=animals).fit()\n",
      "print fit1.summary()"
     ],
     "language": "python",
     "metadata": {},
     "outputs": [
      {
       "output_type": "stream",
       "stream": "stdout",
       "text": [
        "                            OLS Regression Results                            \n",
        "==============================================================================\n",
        "Dep. Variable:                  brain   R-squared:                       0.873\n",
        "Model:                            OLS   Adj. R-squared:                  0.871\n",
        "Method:                 Least Squares   F-statistic:                     411.2\n",
        "Date:                Mon, 28 Apr 2014   Prob (F-statistic):           1.54e-28\n",
        "Time:                        20:14:03   Log-Likelihood:                -447.38\n",
        "No. Observations:                  62   AIC:                             898.8\n",
        "Df Residuals:                      60   BIC:                             903.0\n",
        "Df Model:                           1                                         \n",
        "==============================================================================\n",
        "                 coef    std err          t      P>|t|      [95.0% Conf. Int.]\n",
        "------------------------------------------------------------------------------\n",
        "Intercept     91.0044     43.553      2.090      0.041         3.886   178.123\n",
        "body           0.9665      0.048     20.278      0.000         0.871     1.062\n",
        "==============================================================================\n",
        "Omnibus:                       92.942   Durbin-Watson:                   2.339\n",
        "Prob(Omnibus):                  0.000   Jarque-Bera (JB):             1738.656\n",
        "Skew:                           4.382   Prob(JB):                         0.00\n",
        "Kurtosis:                      27.417   Cond. No.                         936.\n",
        "==============================================================================\n"
       ]
      }
     ],
     "prompt_number": 24
    },
    {
     "cell_type": "code",
     "collapsed": false,
     "input": [
      "fit2 = sm.ols(formula='np.log(brain) ~ np.log(body)', data=animals).fit()\n",
      "print fit2.summary()"
     ],
     "language": "python",
     "metadata": {},
     "outputs": [
      {
       "output_type": "stream",
       "stream": "stdout",
       "text": [
        "                            OLS Regression Results                            \n",
        "==============================================================================\n",
        "Dep. Variable:          np.log(brain)   R-squared:                       0.921\n",
        "Model:                            OLS   Adj. R-squared:                  0.919\n",
        "Method:                 Least Squares   F-statistic:                     697.4\n",
        "Date:                Mon, 28 Apr 2014   Prob (F-statistic):           9.84e-35\n",
        "Time:                        20:14:14   Log-Likelihood:                -64.336\n",
        "No. Observations:                  62   AIC:                             132.7\n",
        "Df Residuals:                      60   BIC:                             136.9\n",
        "Df Model:                           1                                         \n",
        "================================================================================\n",
        "                   coef    std err          t      P>|t|      [95.0% Conf. Int.]\n",
        "--------------------------------------------------------------------------------\n",
        "Intercept        2.1348      0.096     22.227      0.000         1.943     2.327\n",
        "np.log(body)     0.7517      0.028     26.409      0.000         0.695     0.809\n",
        "==============================================================================\n",
        "Omnibus:                        2.698   Durbin-Watson:                   1.980\n",
        "Prob(Omnibus):                  0.260   Jarque-Bera (JB):                1.933\n",
        "Skew:                           0.405   Prob(JB):                        0.380\n",
        "Kurtosis:                       3.301   Cond. No.                         3.73\n",
        "==============================================================================\n"
       ]
      }
     ],
     "prompt_number": 25
    },
    {
     "cell_type": "code",
     "collapsed": false,
     "input": [],
     "language": "python",
     "metadata": {},
     "outputs": []
    }
   ],
   "metadata": {}
  }
 ]
}